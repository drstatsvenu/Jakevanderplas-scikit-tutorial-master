{
 "cells": [
  {
   "cell_type": "markdown",
   "metadata": {},
   "source": [
    "# Machine Learning Intro"
   ]
  },
  {
   "cell_type": "code",
   "execution_count": 1,
   "metadata": {
    "collapsed": true
   },
   "outputs": [],
   "source": [
    "% matplotlib inline\n",
    "import seaborn\n",
    "seaborn.set()"
   ]
  },
  {
   "cell_type": "code",
   "execution_count": 2,
   "metadata": {
    "collapsed": true
   },
   "outputs": [],
   "source": [
    "from sklearn import datasets\n",
    "iris = datasets.load_iris()"
   ]
  },
  {
   "cell_type": "code",
   "execution_count": 3,
   "metadata": {},
   "outputs": [
    {
     "data": {
      "text/plain": [
       "dict_keys(['data', 'target', 'target_names', 'DESCR', 'feature_names'])"
      ]
     },
     "execution_count": 3,
     "metadata": {},
     "output_type": "execute_result"
    }
   ],
   "source": [
    "iris.keys()"
   ]
  },
  {
   "cell_type": "code",
   "execution_count": 4,
   "metadata": {
    "collapsed": true
   },
   "outputs": [],
   "source": [
    "n_samples,n_features = iris.data.shape"
   ]
  },
  {
   "cell_type": "code",
   "execution_count": 5,
   "metadata": {},
   "outputs": [
    {
     "data": {
      "text/plain": [
       "(array([ 5.1,  3.5,  1.4,  0.2]), 0)"
      ]
     },
     "execution_count": 5,
     "metadata": {},
     "output_type": "execute_result"
    }
   ],
   "source": [
    "iris.data[0],iris.target[1]"
   ]
  },
  {
   "cell_type": "code",
   "execution_count": 6,
   "metadata": {},
   "outputs": [
    {
     "data": {
      "text/plain": [
       "((150, 4), (150,))"
      ]
     },
     "execution_count": 6,
     "metadata": {},
     "output_type": "execute_result"
    }
   ],
   "source": [
    "iris.data.shape,iris.target.shape"
   ]
  },
  {
   "cell_type": "code",
   "execution_count": 7,
   "metadata": {},
   "outputs": [
    {
     "data": {
      "text/plain": [
       "<matplotlib.colorbar.Colorbar at 0x27ec5409ba8>"
      ]
     },
     "execution_count": 7,
     "metadata": {},
     "output_type": "execute_result"
    },
    {
     "data": {
      "image/png": "[encoded data removed]",
      "text/plain": [
       "<matplotlib.figure.Figure at 0x27ec4f7b898>"
      ]
     },
     "metadata": {},
     "output_type": "display_data"
    }
   ],
   "source": [
    "import matplotlib.pyplot as plt\n",
    "plt.scatter(iris.data[:,0],iris.data[:,2],c = iris.target,cmap = plt.cm.get_cmap('autumn',3))\n",
    "plt.colorbar(format = '')\n"
   ]
  },
  {
   "cell_type": "code",
   "execution_count": 8,
   "metadata": {},
   "outputs": [
    {
     "data": {
      "text/plain": [
       "['sepal length (cm)',\n",
       " 'sepal width (cm)',\n",
       " 'petal length (cm)',\n",
       " 'petal width (cm)']"
      ]
     },
     "execution_count": 8,
     "metadata": {},
     "output_type": "execute_result"
    }
   ],
   "source": [
    "iris.feature_names"
   ]
  },
  {
   "cell_type": "code",
   "execution_count": 9,
   "metadata": {},
   "outputs": [
    {
     "data": {
      "text/plain": [
       "array(['setosa', 'versicolor', 'virginica'], \n",
       "      dtype='<U10')"
      ]
     },
     "execution_count": 9,
     "metadata": {},
     "output_type": "execute_result"
    }
   ],
   "source": [
    "iris.target_names"
   ]
  },
  {
   "cell_type": "code",
   "execution_count": 10,
   "metadata": {
    "collapsed": true
   },
   "outputs": [],
   "source": [
    "from sklearn import datasets\n",
    "# datasets.fetch_20newsgroups()\n",
    "\n",
    "# This will download the fetch_20newsgroups()"
   ]
  },
  {
   "cell_type": "code",
   "execution_count": 11,
   "metadata": {},
   "outputs": [
    {
     "data": {
      "text/plain": [
       "(array([[-0.35555952, -0.35128503],\n",
       "        [-1.23595282,  0.71229281],\n",
       "        [ 0.33356594, -1.26020334],\n",
       "        [-0.50849695,  0.91173191],\n",
       "        [-0.49900782, -0.38055112],\n",
       "        [-2.13346979, -0.68887232],\n",
       "        [ 1.53962401, -0.80861145],\n",
       "        [-0.33010176,  0.47501418],\n",
       "        [-0.26170547, -1.89873659],\n",
       "        [ 0.08166957, -0.16367331],\n",
       "        [ 0.11856797, -0.42644057],\n",
       "        [ 0.83295064, -0.10413636],\n",
       "        [ 0.10309653,  1.6573284 ],\n",
       "        [ 0.76024573, -0.55356653],\n",
       "        [-0.96786872,  0.01634323],\n",
       "        [ 0.26646908, -0.77428996],\n",
       "        [-0.66216779,  1.85941005],\n",
       "        [-0.7297747 , -1.21246638],\n",
       "        [-1.26168845, -0.59340967],\n",
       "        [ 0.05563758,  0.70401736],\n",
       "        [ 2.11263917, -0.60206084],\n",
       "        [-0.51829036, -0.06905667],\n",
       "        [-0.9323991 ,  0.26138134],\n",
       "        [ 0.59329929,  0.21970308],\n",
       "        [ 0.80602806, -0.2297451 ],\n",
       "        [ 0.34723324, -1.83144345],\n",
       "        [ 1.13480346,  1.37543775],\n",
       "        [ 0.20578131, -0.64282776],\n",
       "        [ 0.22473824, -0.64596472],\n",
       "        [ 1.69971197,  0.36770339],\n",
       "        [-0.77444259,  0.03449427],\n",
       "        [-0.71053009, -1.36678507],\n",
       "        [-0.63625682, -0.20621366],\n",
       "        [-0.15119842,  1.14406224],\n",
       "        [ 1.214648  , -1.61078386],\n",
       "        [ 0.87993162,  0.12706776],\n",
       "        [-1.35886827, -0.52949491],\n",
       "        [-0.40342726,  1.24868253],\n",
       "        [ 1.6801098 ,  0.10560323],\n",
       "        [-0.17515141, -0.36474895],\n",
       "        [ 1.03664139,  0.15811518],\n",
       "        [ 1.60452166, -0.82968961],\n",
       "        [ 0.65352728, -0.39219188],\n",
       "        [ 0.05455731,  0.26174759],\n",
       "        [ 0.13894296, -0.15331367],\n",
       "        [-1.04322919, -0.83809987],\n",
       "        [ 0.44833144, -0.85390424],\n",
       "        [ 0.40376526,  0.96385039],\n",
       "        [-0.85610822,  0.63757642],\n",
       "        [-1.69063665, -0.3961967 ],\n",
       "        [ 0.46316441,  0.26350387],\n",
       "        [-1.61935945,  0.08347539],\n",
       "        [-0.78031347,  0.76524849],\n",
       "        [ 0.6583026 ,  0.40039039],\n",
       "        [-0.38431108,  0.04244648],\n",
       "        [-0.22890403, -0.61542546],\n",
       "        [-1.46774326,  1.24149491],\n",
       "        [-0.85899775, -1.46200257],\n",
       "        [ 0.74545739,  0.83649131],\n",
       "        [-0.38640916,  0.31433162],\n",
       "        [ 2.4508644 ,  0.14792102],\n",
       "        [ 0.17051336,  0.81661273],\n",
       "        [-2.0033261 , -0.21862436],\n",
       "        [ 0.40056675,  0.40541292],\n",
       "        [-1.10890315, -0.02465861],\n",
       "        [ 1.40278808,  2.26065321],\n",
       "        [ 0.0478433 , -0.53783597],\n",
       "        [-0.24329214, -1.26952396],\n",
       "        [ 1.81057897,  0.09784107],\n",
       "        [ 1.02614972, -1.49371058],\n",
       "        [-1.02928493, -0.64346471],\n",
       "        [ 0.03451472,  0.57091631],\n",
       "        [ 0.08523265,  0.47289706],\n",
       "        [-0.06825786,  0.43420696],\n",
       "        [-0.8793292 ,  1.72852859],\n",
       "        [ 0.34789307, -1.05181718],\n",
       "        [ 1.62557784, -1.52676222],\n",
       "        [-0.0975159 , -1.61301944],\n",
       "        [-2.26919639, -0.6371292 ],\n",
       "        [-0.10330853, -0.6172266 ],\n",
       "        [ 0.0324703 ,  0.63034044],\n",
       "        [ 0.68318744, -0.69255311],\n",
       "        [ 1.16966352, -0.52105817],\n",
       "        [ 1.08626786,  0.10910223],\n",
       "        [ 0.58860007,  1.01140661],\n",
       "        [ 1.11884502,  1.06382106],\n",
       "        [-1.38846335,  0.59008419],\n",
       "        [ 0.27108408,  1.20133819],\n",
       "        [ 0.65968528,  1.26958568],\n",
       "        [-0.36188622,  0.92806813],\n",
       "        [ 0.50152309,  1.51754166],\n",
       "        [-0.26609316, -0.41816133],\n",
       "        [-0.24748515, -0.20842311],\n",
       "        [ 0.2616931 ,  0.23928619],\n",
       "        [ 0.71631903,  1.06757346],\n",
       "        [-0.73642156, -0.73584533],\n",
       "        [ 0.19846273, -1.41078522],\n",
       "        [ 0.33654659,  0.45299084],\n",
       "        [ 0.96737983,  0.82443409],\n",
       "        [ 0.41092635, -2.19749928]]),\n",
       " array([0, 2, 1, 1, 0, 2, 2, 0, 2, 0, 0, 1, 2, 1, 1, 0, 2, 1, 1, 0, 2, 0, 1,\n",
       "        0, 1, 2, 2, 0, 0, 2, 0, 2, 0, 1, 2, 1, 2, 1, 2, 0, 1, 2, 0, 0, 0, 1,\n",
       "        1, 1, 1, 2, 0, 2, 1, 0, 0, 0, 2, 2, 1, 0, 2, 1, 2, 0, 1, 2, 0, 1, 2,\n",
       "        2, 1, 0, 0, 0, 2, 1, 2, 2, 2, 0, 0, 1, 1, 1, 1, 2, 2, 1, 2, 1, 2, 0,\n",
       "        0, 0, 1, 1, 2, 0, 1, 2]))"
      ]
     },
     "execution_count": 11,
     "metadata": {},
     "output_type": "execute_result"
    }
   ],
   "source": [
    "datasets.make_gaussian_quantiles()"
   ]
  },
  {
   "cell_type": "code",
   "execution_count": 12,
   "metadata": {},
   "outputs": [
    {
     "data": {
      "text/plain": [
       "<function sklearn.datasets.base.load_digits>"
      ]
     },
     "execution_count": 12,
     "metadata": {},
     "output_type": "execute_result"
    }
   ],
   "source": [
    "datasets.load_digits"
   ]
  },
  {
   "cell_type": "markdown",
   "metadata": {},
   "source": [
    "This will load what ever dataset you wanted to load."
   ]
  },
  {
   "cell_type": "markdown",
   "metadata": {},
   "source": [
    "- Other than these limited number of datasets we can use the raw data and preformat it in pandas and then load into scikit learn."
   ]
  },
  {
   "cell_type": "markdown",
   "metadata": {},
   "source": [
    "# Basic Principles"
   ]
  },
  {
   "cell_type": "code",
   "execution_count": 13,
   "metadata": {
    "collapsed": true
   },
   "outputs": [],
   "source": [
    "import numpy as np\n",
    "import matplotlib.pyplot as plt\n",
    "import seaborn as sns\n",
    "\n",
    "% matplotlib inline"
   ]
  },
  {
   "cell_type": "code",
   "execution_count": 14,
   "metadata": {
    "collapsed": true
   },
   "outputs": [],
   "source": [
    "sns.set()"
   ]
  },
  {
   "cell_type": "markdown",
   "metadata": {},
   "source": [
    "Sns.set() is used to set plot defaults."
   ]
  },
  {
   "cell_type": "markdown",
   "metadata": {},
   "source": [
    "Every model in the scikit learn is called via an 'Estimator Object'.\n",
    "\n",
    "In a loose way we can say that all these model are stored in as python classes."
   ]
  },
  {
   "cell_type": "code",
   "execution_count": 15,
   "metadata": {
    "collapsed": true
   },
   "outputs": [],
   "source": [
    "from sklearn.linear_model import LinearRegression"
   ]
  },
  {
   "cell_type": "code",
   "execution_count": 16,
   "metadata": {
    "collapsed": true
   },
   "outputs": [],
   "source": [
    "model = LinearRegression(n_jobs= -1,normalize=True)"
   ]
  },
  {
   "cell_type": "markdown",
   "metadata": {},
   "source": [
    "In sklearn, model is always constant we just fit the data.\n",
    "\n",
    "The inner parameters inside the model are called as hyper parameters or estimated parameters."
   ]
  },
  {
   "cell_type": "code",
   "execution_count": 17,
   "metadata": {},
   "outputs": [
    {
     "data": {
      "text/plain": [
       "(True, -1)"
      ]
     },
     "execution_count": 17,
     "metadata": {},
     "output_type": "execute_result"
    }
   ],
   "source": [
    "model.normalize,model.n_jobs"
   ]
  },
  {
   "cell_type": "code",
   "execution_count": 18,
   "metadata": {
    "collapsed": true
   },
   "outputs": [],
   "source": [
    "# Lets create some data to check how it works\n",
    "\n",
    "x = np.arange(10)\n",
    "y = 3*x + 7"
   ]
  },
  {
   "cell_type": "code",
   "execution_count": 19,
   "metadata": {},
   "outputs": [
    {
     "data": {
      "text/plain": [
       "[<matplotlib.lines.Line2D at 0x27ec67b9198>]"
      ]
     },
     "execution_count": 19,
     "metadata": {},
     "output_type": "execute_result"
    },
    {
     "data": {
      "image/png": "[encoded data removed]",
      "text/plain": [
       "<matplotlib.figure.Figure at 0x27ec6733e80>"
      ]
     },
     "metadata": {},
     "output_type": "display_data"
    }
   ],
   "source": [
    "plt.plot(x,y,'^')"
   ]
  },
  {
   "cell_type": "markdown",
   "metadata": {},
   "source": [
    "Let's check how one of our estimator models deals with the data"
   ]
  },
  {
   "cell_type": "markdown",
   "metadata": {},
   "source": [
    "In order to fit the data we have to our model we need to adjust dimensions by making 'x' 2D"
   ]
  },
  {
   "cell_type": "code",
   "execution_count": 20,
   "metadata": {},
   "outputs": [
    {
     "data": {
      "text/plain": [
       "[[0], [1], [2], [3], [4], [5], [6], [7], [8], [9]]"
      ]
     },
     "execution_count": 20,
     "metadata": {},
     "output_type": "execute_result"
    }
   ],
   "source": [
    "X = []\n",
    "for i in x:\n",
    "    X.append([i])\n",
    "    \n",
    "X"
   ]
  },
  {
   "cell_type": "markdown",
   "metadata": {},
   "source": [
    "we are merely equating the dimensions of data."
   ]
  },
  {
   "cell_type": "markdown",
   "metadata": {},
   "source": [
    "X = [:,np.newaxis]\n",
    "\n",
    "Jake vanderplas method;but the above method is more easy to visualsie"
   ]
  },
  {
   "cell_type": "code",
   "execution_count": 21,
   "metadata": {},
   "outputs": [
    {
     "data": {
      "text/plain": [
       "LinearRegression(copy_X=True, fit_intercept=True, n_jobs=-1, normalize=True)"
      ]
     },
     "execution_count": 21,
     "metadata": {},
     "output_type": "execute_result"
    }
   ],
   "source": [
    "model.fit(X,y)"
   ]
  },
  {
   "cell_type": "code",
   "execution_count": 22,
   "metadata": {},
   "outputs": [
    {
     "data": {
      "text/plain": [
       "array([ 3.])"
      ]
     },
     "execution_count": 22,
     "metadata": {},
     "output_type": "execute_result"
    }
   ],
   "source": [
    "model.coef_"
   ]
  },
  {
   "cell_type": "markdown",
   "metadata": {},
   "source": [
    "anything with underscore at the end is a fit parameter which is based on our fit to the model"
   ]
  },
  {
   "cell_type": "code",
   "execution_count": 23,
   "metadata": {},
   "outputs": [
    {
     "data": {
      "text/plain": [
       "7.0"
      ]
     },
     "execution_count": 23,
     "metadata": {},
     "output_type": "execute_result"
    }
   ],
   "source": [
    "model.intercept_"
   ]
  },
  {
   "cell_type": "code",
   "execution_count": 24,
   "metadata": {},
   "outputs": [
    {
     "name": "stdout",
     "output_type": "stream",
     "text": [
      "[ 3.]x+7.0\n"
     ]
    }
   ],
   "source": [
    "print (str(model.coef_)+'x'+'+'+str(model.intercept_))"
   ]
  },
  {
   "cell_type": "markdown",
   "metadata": {},
   "source": [
    "so, fitting the data to a linear model actually gave back our eqaution."
   ]
  },
  {
   "cell_type": "code",
   "execution_count": 25,
   "metadata": {},
   "outputs": [
    {
     "name": "stderr",
     "output_type": "stream",
     "text": [
      "C:\\Users\\user\\anaconda_new\\lib\\site-packages\\sklearn\\utils\\deprecation.py:70: DeprecationWarning: Function residues_ is deprecated; ``residues_`` is deprecated and will be removed in 0.19\n",
      "  warnings.warn(msg, category=DeprecationWarning)\n"
     ]
    },
    {
     "data": {
      "text/plain": [
       "6.2433051707528752e-31"
      ]
     },
     "execution_count": 25,
     "metadata": {},
     "output_type": "execute_result"
    }
   ],
   "source": [
    "model.residues_\n",
    "\n",
    "# It is the error obtained between the actual outputs and fit of our data.\n",
    "# 6.2e^-31 is a computer's way of showing zero."
   ]
  }
 ],
 "metadata": {
  "kernelspec": {
   "display_name": "Python 3",
   "language": "python",
   "name": "python3"
  },
  "language_info": {
   "codemirror_mode": {
    "name": "ipython",
    "version": 3
   },
   "file_extension": ".py",
   "mimetype": "text/x-python",
   "name": "python",
   "nbconvert_exporter": "python",
   "pygments_lexer": "ipython3",
   "version": "3.6.1"
  }
 },
 "nbformat": 4,
 "nbformat_minor": 2
}
